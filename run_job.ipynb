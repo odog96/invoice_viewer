{
 "cells": [
  {
   "cell_type": "markdown",
   "id": "0e0e625f-cc83-4f55-a302-a89c73b65910",
   "metadata": {},
   "source": [
    "## Getting project and job id's"
   ]
  },
  {
   "cell_type": "code",
   "execution_count": 1,
   "id": "e7a1242e-dcd6-4da1-853e-e0b4b0899285",
   "metadata": {
    "tags": []
   },
   "outputs": [],
   "source": [
    "import os\n",
    "import cmlapi\n",
    "import random\n",
    "import string\n",
    "import json"
   ]
  },
  {
   "cell_type": "code",
   "execution_count": 2,
   "id": "40108d3f-3423-4b32-ba86-94f422434979",
   "metadata": {
    "tags": []
   },
   "outputs": [],
   "source": [
    "# COLLECTION_NAME = 'cml-default' ## Update if you have changed this\n",
    "client = cmlapi.default_client(url=os.getenv(\"CDSW_API_URL\").replace(\"/api/v1\", \"\"), cml_api_key=os.getenv(\"CDSW_APIV2_KEY\"))"
   ]
  },
  {
   "cell_type": "code",
   "execution_count": 7,
   "id": "cff85d91-9961-458d-9094-f706582331a1",
   "metadata": {
    "tags": []
   },
   "outputs": [
    {
     "data": {
      "text/plain": [
       "'259b662629aefc16ef977d09559ee703bb14fb98ca36b1cc0a4730b66b280dc2.21774866f507eeb693e6192d9be4fcdeb83b09df9cfd29df140a9f10540b96a2'"
      ]
     },
     "execution_count": 7,
     "metadata": {},
     "output_type": "execute_result"
    }
   ],
   "source": [
    "os.getenv(\"CDSW_APIV2_KEY\")"
   ]
  },
  {
   "cell_type": "code",
   "execution_count": 4,
   "id": "05facb5e-0515-4f96-b702-84fb39b48c83",
   "metadata": {
    "tags": []
   },
   "outputs": [
    {
     "data": {
      "text/plain": [
       "{'next_page_token': '',\n",
       " 'projects': [{'created_at': datetime.datetime(2024, 2, 26, 16, 35, 44, 95125, tzinfo=tzlocal()),\n",
       "               'creation_status': 'success',\n",
       "               'creator': {'email': 'ozarate@cloudera.com',\n",
       "                           'name': 'Oliver Zarate',\n",
       "                           'username': 'ozarate'},\n",
       "               'default_engine_type': 'ml_runtime',\n",
       "               'description': '',\n",
       "               'environment': '{\"DATABASE_URL\":\"https://cod-p6yv7mcylres-gateway0.se-sandb.a465-9q4k.cloudera.site/cod-p6yv7mcylres/cdp-proxy-api/avatica/\",\"TABLE_NAME\":\"INVOICES\",\"AVATICA_USER\":\"ozarate\",\"AVATICA_PASSWORD\":\"Oreoiscute1!\",\"AUTHENTICATION\":\"BASIC\",\"SERIALIZATION\":\"PROTOBUF\",\"CDSW_APP_POLLING_ENDPOINT\":\"/\",\"PROJECT_OWNER\":\"ozarate\"}',\n",
       "               'ephemeral_storage_limit': 10,\n",
       "               'ephemeral_storage_request': 0,\n",
       "               'id': '24db-2wju-e0cq-926p',\n",
       "               'name': 'dow-poc',\n",
       "               'owner': {'email': 'ozarate@cloudera.com',\n",
       "                         'name': 'Oliver Zarate',\n",
       "                         'username': 'ozarate'},\n",
       "               'permissions': {'admin': True,\n",
       "                               'business_user': True,\n",
       "                               'inherit': False,\n",
       "                               'operator': True,\n",
       "                               'read': True,\n",
       "                               'write': True},\n",
       "               'shared_memory_limit': 0,\n",
       "               'updated_at': datetime.datetime(2024, 2, 26, 17, 1, 28, 141216, tzinfo=tzlocal()),\n",
       "               'visibility': 'public'}]}"
      ]
     },
     "execution_count": 4,
     "metadata": {},
     "output_type": "execute_result"
    }
   ],
   "source": [
    "#api_instance = default_client()\n",
    "client.list_projects()"
   ]
  },
  {
   "cell_type": "code",
   "execution_count": 5,
   "id": "15597c6a-337a-420f-b42e-9323e562559a",
   "metadata": {
    "tags": []
   },
   "outputs": [],
   "source": [
    "project_id = '24db-2wju-e0cq-926p'\n",
    "job_id = 'vwcn-u0wc-4roj-3nv8'"
   ]
  },
  {
   "cell_type": "code",
   "execution_count": 6,
   "id": "e1a96dce-e93c-4b9e-84ef-20e3d3533fec",
   "metadata": {
    "tags": []
   },
   "outputs": [],
   "source": [
    "job_run = client.create_job_run(\n",
    "    cmlapi.CreateJobRunRequest(),\n",
    "    project_id = project_id, \n",
    "    job_id = job_id\n",
    ")"
   ]
  },
  {
   "cell_type": "code",
   "execution_count": 11,
   "id": "bb7dd1db-94a4-4711-b83a-3e45eb26e3dc",
   "metadata": {
    "tags": []
   },
   "outputs": [
    {
     "data": {
      "text/plain": [
       "'4knf-ixp7-dq2s-h3sd'"
      ]
     },
     "execution_count": 11,
     "metadata": {},
     "output_type": "execute_result"
    }
   ],
   "source": []
  },
  {
   "cell_type": "code",
   "execution_count": null,
   "id": "60e1118d-88ee-4107-9650-d241ec253add",
   "metadata": {},
   "outputs": [],
   "source": []
  },
  {
   "cell_type": "code",
   "execution_count": null,
   "id": "b6f19001-5512-48c0-ae78-7ffc0da5c258",
   "metadata": {},
   "outputs": [],
   "source": []
  },
  {
   "cell_type": "code",
   "execution_count": null,
   "id": "72516de0-57c1-4403-ad85-9d1f3da12ef6",
   "metadata": {},
   "outputs": [],
   "source": []
  }
 ],
 "metadata": {
  "kernelspec": {
   "display_name": "Python 3 (ipykernel)",
   "language": "python",
   "name": "python3"
  },
  "language_info": {
   "codemirror_mode": {
    "name": "ipython",
    "version": 3
   },
   "file_extension": ".py",
   "mimetype": "text/x-python",
   "name": "python",
   "nbconvert_exporter": "python",
   "pygments_lexer": "ipython3",
   "version": "3.9.18"
  }
 },
 "nbformat": 4,
 "nbformat_minor": 5
}
